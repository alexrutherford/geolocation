{
 "cells": [
  {
   "cell_type": "markdown",
   "metadata": {},
   "source": [
    "Data and meta-data available [here](http://download.geonames.org/export/dump/)"
   ]
  },
  {
   "cell_type": "code",
   "execution_count": 2,
   "metadata": {
    "collapsed": false
   },
   "outputs": [],
   "source": [
    "import sys,os,re,csv,urllib2\n",
    "sys.path.append('/usr/local/lib/python2.7/dist-packages/')\n",
    "import pymysql\n",
    "import pandas as pd\n",
    "from secrets import *\n",
    "import BeautifulSoup as bs4"
   ]
  },
  {
   "cell_type": "markdown",
   "metadata": {},
   "source": [
    "### Grab files"
   ]
  },
  {
   "cell_type": "code",
   "execution_count": 11,
   "metadata": {
    "collapsed": false
   },
   "outputs": [],
   "source": [
    "soup=bs4.BeautifulSoup(urllib2.urlopen('http://download.geonames.org/export/dump/').read())"
   ]
  },
  {
   "cell_type": "code",
   "execution_count": 16,
   "metadata": {
    "collapsed": false
   },
   "outputs": [],
   "source": [
    "for link in soup.findAll('a'):\n",
    "    try:\n",
    "        if re.search(r'[A-Z]{2,2}'+'\\.zip',link.get('href')):\n",
    "            print(link.get('href'))\n",
    "            os.system('wget http://download.geonames.org/export/dump/'+link.get('href'))\n",
    "    except:\n",
    "        pass\n",
    "    "
   ]
  },
  {
   "cell_type": "code",
   "execution_count": 49,
   "metadata": {
    "collapsed": false
   },
   "outputs": [],
   "source": [
    "data=pd.read_csv('files/AE.txt',sep='\\t',header=None)"
   ]
  },
  {
   "cell_type": "code",
   "execution_count": 52,
   "metadata": {
    "collapsed": false
   },
   "outputs": [],
   "source": [
    "data.head()"
   ]
  },
  {
   "cell_type": "code",
   "execution_count": 51,
   "metadata": {
    "collapsed": true
   },
   "outputs": [],
   "source": [
    "names=[]\n",
    "names.append('id')\n",
    "names.append('name')\n",
    "names.append('ascii_name')\n",
    "names.append('alternate_names')\n",
    "names.append('lat')\n",
    "names.append('long')\n",
    "names.append('feature') # feature class http://www.geonames.org/export/codes.html\n",
    "names.append('feature code')\n",
    "names.append('country')\n",
    "names.append('country_alt') # weird other country something\n",
    "names.append('admin1')\n",
    "names.append('admin2')\n",
    "names.append('admin3')\n",
    "names.append('admin4')\n",
    "names.append('population')\n",
    "names.append('elevation')\n",
    "names.append('elevation_dem')\n",
    "names.append('timezone')\n",
    "names.append('mod') # Date modified"
   ]
  },
  {
   "cell_type": "code",
   "execution_count": 53,
   "metadata": {
    "collapsed": true
   },
   "outputs": [],
   "source": [
    "data.columns=names"
   ]
  },
  {
   "cell_type": "code",
   "execution_count": 67,
   "metadata": {
    "collapsed": false
   },
   "outputs": [
    {
     "data": {
      "text/html": [
       "<div>\n",
       "<table border=\"1\" class=\"dataframe\">\n",
       "  <thead>\n",
       "    <tr style=\"text-align: right;\">\n",
       "      <th></th>\n",
       "      <th>id</th>\n",
       "      <th>name</th>\n",
       "      <th>ascii_name</th>\n",
       "      <th>alternate_names</th>\n",
       "      <th>lat</th>\n",
       "      <th>long</th>\n",
       "      <th>feature</th>\n",
       "      <th>feature code</th>\n",
       "      <th>country</th>\n",
       "      <th>country_alt</th>\n",
       "      <th>admin1</th>\n",
       "      <th>admin2</th>\n",
       "      <th>admin3</th>\n",
       "      <th>admin4</th>\n",
       "      <th>population</th>\n",
       "      <th>elevation</th>\n",
       "      <th>elevation_dem</th>\n",
       "      <th>timezone</th>\n",
       "      <th>mod</th>\n",
       "    </tr>\n",
       "  </thead>\n",
       "  <tbody>\n",
       "    <tr>\n",
       "      <th>0</th>\n",
       "      <td>100392</td>\n",
       "      <td>Suhūl az̧ Z̧afrah</td>\n",
       "      <td>Suhul az Zafrah</td>\n",
       "      <td>Suhul az Zafrah,Suhūl az̧ Z̧afrah</td>\n",
       "      <td>22.75000</td>\n",
       "      <td>53.16667</td>\n",
       "      <td>T</td>\n",
       "      <td>PLN</td>\n",
       "      <td>AE</td>\n",
       "      <td>NaN</td>\n",
       "      <td>0</td>\n",
       "      <td>NaN</td>\n",
       "      <td>NaN</td>\n",
       "      <td>NaN</td>\n",
       "      <td>0</td>\n",
       "      <td>NaN</td>\n",
       "      <td>119</td>\n",
       "      <td>Asia/Dubai</td>\n",
       "      <td>2013-07-04</td>\n",
       "    </tr>\n",
       "    <tr>\n",
       "      <th>1</th>\n",
       "      <td>101999</td>\n",
       "      <td>Shudūq al Jawwān</td>\n",
       "      <td>Shuduq al Jawwan</td>\n",
       "      <td>Shuduq al Jawwan,Shudūq al Jawwān</td>\n",
       "      <td>22.83333</td>\n",
       "      <td>53.41667</td>\n",
       "      <td>T</td>\n",
       "      <td>DUNE</td>\n",
       "      <td>AE</td>\n",
       "      <td>NaN</td>\n",
       "      <td>0</td>\n",
       "      <td>NaN</td>\n",
       "      <td>NaN</td>\n",
       "      <td>NaN</td>\n",
       "      <td>0</td>\n",
       "      <td>NaN</td>\n",
       "      <td>96</td>\n",
       "      <td>Asia/Dubai</td>\n",
       "      <td>2013-07-04</td>\n",
       "    </tr>\n",
       "    <tr>\n",
       "      <th>2</th>\n",
       "      <td>112658</td>\n",
       "      <td>Lesser Tunb</td>\n",
       "      <td>Lesser Tunb</td>\n",
       "      <td>Jazireh-Ye-Tonb-e-Kuchak,Jazireh-e Nabiyo Tomb...</td>\n",
       "      <td>26.24194</td>\n",
       "      <td>55.14722</td>\n",
       "      <td>T</td>\n",
       "      <td>ISL</td>\n",
       "      <td>AE</td>\n",
       "      <td>NaN</td>\n",
       "      <td>11</td>\n",
       "      <td>NaN</td>\n",
       "      <td>NaN</td>\n",
       "      <td>NaN</td>\n",
       "      <td>0</td>\n",
       "      <td>NaN</td>\n",
       "      <td>3</td>\n",
       "      <td>Asia/Tehran</td>\n",
       "      <td>2015-02-05</td>\n",
       "    </tr>\n",
       "    <tr>\n",
       "      <th>3</th>\n",
       "      <td>112659</td>\n",
       "      <td>Greater Tunb</td>\n",
       "      <td>Greater Tunb</td>\n",
       "      <td>Greater Tunb,Jazireh-ye Tonb-e Bozorg,Jazīreh-...</td>\n",
       "      <td>26.26389</td>\n",
       "      <td>55.30500</td>\n",
       "      <td>T</td>\n",
       "      <td>ISL</td>\n",
       "      <td>AE</td>\n",
       "      <td>NaN</td>\n",
       "      <td>11</td>\n",
       "      <td>NaN</td>\n",
       "      <td>NaN</td>\n",
       "      <td>NaN</td>\n",
       "      <td>0</td>\n",
       "      <td>NaN</td>\n",
       "      <td>29</td>\n",
       "      <td>Asia/Tehran</td>\n",
       "      <td>2015-02-05</td>\n",
       "    </tr>\n",
       "    <tr>\n",
       "      <th>4</th>\n",
       "      <td>251121</td>\n",
       "      <td>Wādī Shīk</td>\n",
       "      <td>Wadi Shik</td>\n",
       "      <td>Wadi Chich,Wadi Shik,Wādī Chich,Wādī Shīk</td>\n",
       "      <td>24.21667</td>\n",
       "      <td>55.76667</td>\n",
       "      <td>H</td>\n",
       "      <td>WAD</td>\n",
       "      <td>AE</td>\n",
       "      <td>NaN</td>\n",
       "      <td>NaN</td>\n",
       "      <td>NaN</td>\n",
       "      <td>NaN</td>\n",
       "      <td>NaN</td>\n",
       "      <td>0</td>\n",
       "      <td>NaN</td>\n",
       "      <td>290</td>\n",
       "      <td>Asia/Dubai</td>\n",
       "      <td>2013-03-19</td>\n",
       "    </tr>\n",
       "    <tr>\n",
       "      <th>5</th>\n",
       "      <td>251154</td>\n",
       "      <td>Wādī Sumaynī</td>\n",
       "      <td>Wadi Sumayni</td>\n",
       "      <td>Wadi Samain,Wadi Sumayni,Wādī Samain,Wādī Sumaynī</td>\n",
       "      <td>24.83333</td>\n",
       "      <td>55.78333</td>\n",
       "      <td>H</td>\n",
       "      <td>WAD</td>\n",
       "      <td>AE</td>\n",
       "      <td>NaN</td>\n",
       "      <td>0</td>\n",
       "      <td>NaN</td>\n",
       "      <td>NaN</td>\n",
       "      <td>NaN</td>\n",
       "      <td>0</td>\n",
       "      <td>NaN</td>\n",
       "      <td>215</td>\n",
       "      <td>Asia/Dubai</td>\n",
       "      <td>2013-07-06</td>\n",
       "    </tr>\n",
       "    <tr>\n",
       "      <th>6</th>\n",
       "      <td>285895</td>\n",
       "      <td>Jabal Zārūb</td>\n",
       "      <td>Jabal Zarub</td>\n",
       "      <td>Jabal Zarub,Jabal Zārūb,Umm Bar,Umm Barr</td>\n",
       "      <td>24.20778</td>\n",
       "      <td>55.96417</td>\n",
       "      <td>T</td>\n",
       "      <td>MT</td>\n",
       "      <td>AE</td>\n",
       "      <td>NaN</td>\n",
       "      <td>0</td>\n",
       "      <td>NaN</td>\n",
       "      <td>NaN</td>\n",
       "      <td>NaN</td>\n",
       "      <td>0</td>\n",
       "      <td>NaN</td>\n",
       "      <td>553</td>\n",
       "      <td>Asia/Dubai</td>\n",
       "      <td>2012-04-05</td>\n",
       "    </tr>\n",
       "    <tr>\n",
       "      <th>7</th>\n",
       "      <td>286019</td>\n",
       "      <td>Ţawī ‘Uwayyir</td>\n",
       "      <td>Tawi `Uwayyir</td>\n",
       "      <td>Tawi `Uwayyir,Ţawī ‘Uwayyir</td>\n",
       "      <td>24.14583</td>\n",
       "      <td>55.97194</td>\n",
       "      <td>H</td>\n",
       "      <td>WLL</td>\n",
       "      <td>AE</td>\n",
       "      <td>NaN</td>\n",
       "      <td>1</td>\n",
       "      <td>NaN</td>\n",
       "      <td>NaN</td>\n",
       "      <td>NaN</td>\n",
       "      <td>0</td>\n",
       "      <td>NaN</td>\n",
       "      <td>393</td>\n",
       "      <td>Asia/Dubai</td>\n",
       "      <td>2013-08-06</td>\n",
       "    </tr>\n",
       "    <tr>\n",
       "      <th>8</th>\n",
       "      <td>286076</td>\n",
       "      <td>Kharmat Umm al ‘Awsh</td>\n",
       "      <td>Kharmat Umm al `Awsh</td>\n",
       "      <td>Kharimat Umm al Aush,Kharmat Umm al `Awsh,Khar...</td>\n",
       "      <td>23.43333</td>\n",
       "      <td>55.41667</td>\n",
       "      <td>T</td>\n",
       "      <td>TRGD</td>\n",
       "      <td>AE</td>\n",
       "      <td>NaN</td>\n",
       "      <td>0</td>\n",
       "      <td>NaN</td>\n",
       "      <td>NaN</td>\n",
       "      <td>NaN</td>\n",
       "      <td>0</td>\n",
       "      <td>NaN</td>\n",
       "      <td>130</td>\n",
       "      <td>Asia/Dubai</td>\n",
       "      <td>2013-07-06</td>\n",
       "    </tr>\n",
       "    <tr>\n",
       "      <th>9</th>\n",
       "      <td>286176</td>\n",
       "      <td>Ţawī al ‘Awqān</td>\n",
       "      <td>Tawi al `Awqan</td>\n",
       "      <td>Tawi al `Awqan,`Awqan,Ţawī al ‘Awqān,‘Awqān</td>\n",
       "      <td>23.63333</td>\n",
       "      <td>55.55000</td>\n",
       "      <td>L</td>\n",
       "      <td>LCTY</td>\n",
       "      <td>AE</td>\n",
       "      <td>NaN</td>\n",
       "      <td>1</td>\n",
       "      <td>NaN</td>\n",
       "      <td>NaN</td>\n",
       "      <td>NaN</td>\n",
       "      <td>0</td>\n",
       "      <td>NaN</td>\n",
       "      <td>172</td>\n",
       "      <td>Asia/Dubai</td>\n",
       "      <td>2012-04-05</td>\n",
       "    </tr>\n",
       "  </tbody>\n",
       "</table>\n",
       "</div>"
      ],
      "text/plain": [
       "       id                  name            ascii_name  \\\n",
       "0  100392     Suhūl az̧ Z̧afrah       Suhul az Zafrah   \n",
       "1  101999      Shudūq al Jawwān      Shuduq al Jawwan   \n",
       "2  112658           Lesser Tunb           Lesser Tunb   \n",
       "3  112659          Greater Tunb          Greater Tunb   \n",
       "4  251121             Wādī Shīk             Wadi Shik   \n",
       "5  251154          Wādī Sumaynī          Wadi Sumayni   \n",
       "6  285895           Jabal Zārūb           Jabal Zarub   \n",
       "7  286019         Ţawī ‘Uwayyir         Tawi `Uwayyir   \n",
       "8  286076  Kharmat Umm al ‘Awsh  Kharmat Umm al `Awsh   \n",
       "9  286176        Ţawī al ‘Awqān        Tawi al `Awqan   \n",
       "\n",
       "                                     alternate_names       lat      long  \\\n",
       "0                  Suhul az Zafrah,Suhūl az̧ Z̧afrah  22.75000  53.16667   \n",
       "1                  Shuduq al Jawwan,Shudūq al Jawwān  22.83333  53.41667   \n",
       "2  Jazireh-Ye-Tonb-e-Kuchak,Jazireh-e Nabiyo Tomb...  26.24194  55.14722   \n",
       "3  Greater Tunb,Jazireh-ye Tonb-e Bozorg,Jazīreh-...  26.26389  55.30500   \n",
       "4          Wadi Chich,Wadi Shik,Wādī Chich,Wādī Shīk  24.21667  55.76667   \n",
       "5  Wadi Samain,Wadi Sumayni,Wādī Samain,Wādī Sumaynī  24.83333  55.78333   \n",
       "6           Jabal Zarub,Jabal Zārūb,Umm Bar,Umm Barr  24.20778  55.96417   \n",
       "7                        Tawi `Uwayyir,Ţawī ‘Uwayyir  24.14583  55.97194   \n",
       "8  Kharimat Umm al Aush,Kharmat Umm al `Awsh,Khar...  23.43333  55.41667   \n",
       "9        Tawi al `Awqan,`Awqan,Ţawī al ‘Awqān,‘Awqān  23.63333  55.55000   \n",
       "\n",
       "  feature feature code country country_alt  admin1  admin2  admin3  admin4  \\\n",
       "0       T          PLN      AE         NaN       0     NaN     NaN     NaN   \n",
       "1       T         DUNE      AE         NaN       0     NaN     NaN     NaN   \n",
       "2       T          ISL      AE         NaN      11     NaN     NaN     NaN   \n",
       "3       T          ISL      AE         NaN      11     NaN     NaN     NaN   \n",
       "4       H          WAD      AE         NaN     NaN     NaN     NaN     NaN   \n",
       "5       H          WAD      AE         NaN       0     NaN     NaN     NaN   \n",
       "6       T           MT      AE         NaN       0     NaN     NaN     NaN   \n",
       "7       H          WLL      AE         NaN       1     NaN     NaN     NaN   \n",
       "8       T         TRGD      AE         NaN       0     NaN     NaN     NaN   \n",
       "9       L         LCTY      AE         NaN       1     NaN     NaN     NaN   \n",
       "\n",
       "   population  elevation  elevation_dem     timezone         mod  \n",
       "0           0        NaN            119   Asia/Dubai  2013-07-04  \n",
       "1           0        NaN             96   Asia/Dubai  2013-07-04  \n",
       "2           0        NaN              3  Asia/Tehran  2015-02-05  \n",
       "3           0        NaN             29  Asia/Tehran  2015-02-05  \n",
       "4           0        NaN            290   Asia/Dubai  2013-03-19  \n",
       "5           0        NaN            215   Asia/Dubai  2013-07-06  \n",
       "6           0        NaN            553   Asia/Dubai  2012-04-05  \n",
       "7           0        NaN            393   Asia/Dubai  2013-08-06  \n",
       "8           0        NaN            130   Asia/Dubai  2013-07-06  \n",
       "9           0        NaN            172   Asia/Dubai  2012-04-05  "
      ]
     },
     "execution_count": 67,
     "metadata": {},
     "output_type": "execute_result"
    }
   ],
   "source": [
    "data.head(10)"
   ]
  },
  {
   "cell_type": "markdown",
   "metadata": {},
   "source": [
    "### Grab admin 1 names"
   ]
  },
  {
   "cell_type": "code",
   "execution_count": 115,
   "metadata": {
    "collapsed": false
   },
   "outputs": [],
   "source": [
    "!wget http://download.geonames.org/export/dump/admin1CodesASCII.txt"
   ]
  },
  {
   "cell_type": "code",
   "execution_count": 8,
   "metadata": {
    "collapsed": true
   },
   "outputs": [],
   "source": [
    "admin1=pd.read_csv('admin1CodesASCII.txt',sep='\\t',header=None,names=['code','name','ascii_name','pop'])"
   ]
  },
  {
   "cell_type": "code",
   "execution_count": 9,
   "metadata": {
    "collapsed": false
   },
   "outputs": [],
   "source": [
    "admin1.head()"
   ]
  },
  {
   "cell_type": "code",
   "execution_count": 10,
   "metadata": {
    "collapsed": true
   },
   "outputs": [],
   "source": [
    "admin1['country']=admin1.code.apply(lambda x:x.partition('.')[0])\n",
    "admin1['admin_code']=admin1.code.apply(lambda x:x.partition('.')[2])"
   ]
  },
  {
   "cell_type": "code",
   "execution_count": 11,
   "metadata": {
    "collapsed": false
   },
   "outputs": [],
   "source": [
    "admin1.head()"
   ]
  },
  {
   "cell_type": "markdown",
   "metadata": {},
   "source": [
    "### Create Tables"
   ]
  },
  {
   "cell_type": "code",
   "execution_count": 12,
   "metadata": {
    "collapsed": false
   },
   "outputs": [],
   "source": [
    "conn = pymysql.connect(host='localhost',user='root',passwd=PW, db='geo',charset='utf8')\n",
    "cur = conn.cursor()"
   ]
  },
  {
   "cell_type": "code",
   "execution_count": 44,
   "metadata": {
    "collapsed": false
   },
   "outputs": [],
   "source": [
    "res=cur.execute('create table admin1 (name varchar(100) character set utf8, ascii_name varchar(100) character set utf8, country varchar(2),admin varchar(10))',)"
   ]
  },
  {
   "cell_type": "code",
   "execution_count": 48,
   "metadata": {
    "collapsed": false
   },
   "outputs": [],
   "source": [
    "res=cur.execute('create table places (name varchar(100) character set utf8,clean_name varchar(100) character set utf8, lat float,lon float,country varchar(2),pop int, elevation mediumint)',)"
   ]
  },
  {
   "cell_type": "markdown",
   "metadata": {},
   "source": [
    "### Add rows for admin 1"
   ]
  },
  {
   "cell_type": "code",
   "execution_count": 30,
   "metadata": {
    "collapsed": true
   },
   "outputs": [],
   "source": [
    "cmd=\"INSERT INTO admin1 (ascii_name,country,admin) VALUES (%s,%s,%s)\""
   ]
  },
  {
   "cell_type": "code",
   "execution_count": 19,
   "metadata": {
    "collapsed": false
   },
   "outputs": [],
   "source": [
    "admin1['name'].fillna(\"\",inplace=True)"
   ]
  },
  {
   "cell_type": "code",
   "execution_count": 20,
   "metadata": {
    "collapsed": false
   },
   "outputs": [],
   "source": [
    "admin1['admin_code']=admin1['admin_code'].apply(str)"
   ]
  },
  {
   "cell_type": "code",
   "execution_count": 28,
   "metadata": {
    "collapsed": false
   },
   "outputs": [],
   "source": [
    "admin1.head()"
   ]
  },
  {
   "cell_type": "code",
   "execution_count": 46,
   "metadata": {
    "collapsed": false
   },
   "outputs": [],
   "source": [
    "for row in admin1.iterrows():\n",
    "    temp=(row[1]['ascii_name'],row[1]['country'],row[1]['admin_code'])\n",
    "    res=cur.execute(cmd,temp)\n",
    "    conn.commit()"
   ]
  },
  {
   "cell_type": "markdown",
   "metadata": {},
   "source": [
    "### Add rows for places"
   ]
  },
  {
   "cell_type": "code",
   "execution_count": 24,
   "metadata": {
    "collapsed": true
   },
   "outputs": [],
   "source": [
    "cmd=\"INSERT INTO places (name,lat,lon,country,pop,elevation) VALUES (%s,%s,%s,%s,%s,%s)\""
   ]
  },
  {
   "cell_type": "code",
   "execution_count": 25,
   "metadata": {
    "collapsed": false
   },
   "outputs": [],
   "source": [
    "for row in data.iterrows():\n",
    "#    print row[0],row[1]\n",
    "    temp=(row[1]['name'],row[1].lat,row[1]['long'],row[1].country,row[1].population,row[1].elevation_dem)\n",
    "    print temp\n",
    "    \n",
    "    res=cur.execute(cmd,temp)\n",
    "    conn.commit()\n",
    "    \n",
    "    assert cur.rowcount==1"
   ]
  },
  {
   "cell_type": "code",
   "execution_count": 93,
   "metadata": {
    "collapsed": false
   },
   "outputs": [],
   "source": [
    "cmd=\"INSERT INTO places (name,lat,lon,country,pop,elevation) VALUES (%s,%s,%s,%s,%s,%s)\""
   ]
  },
  {
   "cell_type": "code",
   "execution_count": 94,
   "metadata": {
    "collapsed": false
   },
   "outputs": [],
   "source": [
    "res=cur.execute(cmd,(\"test\",99.9,99.9,\"TE\",999,999))"
   ]
  },
  {
   "cell_type": "code",
   "execution_count": null,
   "metadata": {
    "collapsed": true
   },
   "outputs": [],
   "source": [
    "res=cur.execute()"
   ]
  },
  {
   "cell_type": "code",
   "execution_count": 48,
   "metadata": {
    "collapsed": true
   },
   "outputs": [],
   "source": [
    "cmd=\"INSERT INTO `places` (`name`) VALUES (%s)\""
   ]
  },
  {
   "cell_type": "code",
   "execution_count": 95,
   "metadata": {
    "collapsed": true
   },
   "outputs": [],
   "source": [
    "conn.commit()"
   ]
  },
  {
   "cell_type": "code",
   "execution_count": 96,
   "metadata": {
    "collapsed": false
   },
   "outputs": [],
   "source": [
    "cur.rowcount"
   ]
  },
  {
   "cell_type": "code",
   "execution_count": null,
   "metadata": {
    "collapsed": true
   },
   "outputs": [],
   "source": []
  }
 ],
 "metadata": {
  "kernelspec": {
   "display_name": "Python 2",
   "language": "python",
   "name": "python2"
  },
  "language_info": {
   "codemirror_mode": {
    "name": "ipython",
    "version": 2
   },
   "file_extension": ".py",
   "mimetype": "text/x-python",
   "name": "python",
   "nbconvert_exporter": "python",
   "pygments_lexer": "ipython2",
   "version": "2.7.10"
  }
 },
 "nbformat": 4,
 "nbformat_minor": 0
}
